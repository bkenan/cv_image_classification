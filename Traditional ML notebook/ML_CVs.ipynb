{
 "cells": [
  {
   "cell_type": "code",
   "execution_count": 1,
   "id": "0ade5abc",
   "metadata": {},
   "outputs": [],
   "source": [
    "import pandas as pd\n",
    "import numpy as np\n",
    "import matplotlib.pyplot as plt\n",
    "from matplotlib.colors import ListedColormap\n",
    "import seaborn as sns\n",
    "from sklearn.tree import DecisionTreeClassifier, DecisionTreeRegressor, plot_tree\n",
    "from sklearn.ensemble import RandomForestClassifier\n",
    "from sklearn.model_selection import train_test_split\n",
    "from torchvision import transforms\n",
    "import torch\n",
    "import glob\n",
    "import cv2 as cv\n",
    "from PIL import Image\n",
    "from sklearn import tree\n",
    "from sklearn.model_selection import GridSearchCV\n",
    "import os\n",
    "import warnings\n",
    "warnings.filterwarnings(\"ignore\")"
   ]
  },
  {
   "cell_type": "code",
   "execution_count": 3,
   "id": "3e2f6cb0",
   "metadata": {},
   "outputs": [],
   "source": [
    "# set the image label directory\n",
    "label = pd.read_excel('totallabel.xlsx', index_col=0)  "
   ]
  },
  {
   "cell_type": "code",
   "execution_count": 4,
   "id": "9e65c627",
   "metadata": {},
   "outputs": [
    {
     "data": {
      "text/html": [
       "<div>\n",
       "<style scoped>\n",
       "    .dataframe tbody tr th:only-of-type {\n",
       "        vertical-align: middle;\n",
       "    }\n",
       "\n",
       "    .dataframe tbody tr th {\n",
       "        vertical-align: top;\n",
       "    }\n",
       "\n",
       "    .dataframe thead th {\n",
       "        text-align: right;\n",
       "    }\n",
       "</style>\n",
       "<table border=\"1\" class=\"dataframe\">\n",
       "  <thead>\n",
       "    <tr style=\"text-align: right;\">\n",
       "      <th></th>\n",
       "      <th>label</th>\n",
       "    </tr>\n",
       "    <tr>\n",
       "      <th>id</th>\n",
       "      <th></th>\n",
       "    </tr>\n",
       "  </thead>\n",
       "  <tbody>\n",
       "    <tr>\n",
       "      <th>image_0</th>\n",
       "      <td>Pipe</td>\n",
       "    </tr>\n",
       "    <tr>\n",
       "      <th>image_1</th>\n",
       "      <td>Pipe</td>\n",
       "    </tr>\n",
       "    <tr>\n",
       "      <th>image_2</th>\n",
       "      <td>Pipe</td>\n",
       "    </tr>\n",
       "    <tr>\n",
       "      <th>image_3</th>\n",
       "      <td>Pipe</td>\n",
       "    </tr>\n",
       "    <tr>\n",
       "      <th>image_4</th>\n",
       "      <td>Pipe</td>\n",
       "    </tr>\n",
       "  </tbody>\n",
       "</table>\n",
       "</div>"
      ],
      "text/plain": [
       "        label\n",
       "id           \n",
       "image_0  Pipe\n",
       "image_1  Pipe\n",
       "image_2  Pipe\n",
       "image_3  Pipe\n",
       "image_4  Pipe"
      ]
     },
     "execution_count": 4,
     "metadata": {},
     "output_type": "execute_result"
    }
   ],
   "source": [
    "label.head()"
   ]
  },
  {
   "cell_type": "code",
   "execution_count": 5,
   "id": "a0986bc2",
   "metadata": {
    "scrolled": false
   },
   "outputs": [
    {
     "name": "stdout",
     "output_type": "stream",
     "text": [
      "Class Airport: 175\n",
      "Class Building: 150\n",
      "Class Car: 150\n",
      "Class Bridge: 140\n",
      "Class Railway: 65\n",
      "Class Pipe: 60\n",
      "Class Power_plant: 60\n"
     ]
    },
    {
     "data": {
      "image/png": "[encoded data removed]",
      "text/plain": [
       "<Figure size 432x288 with 1 Axes>"
      ]
     },
     "metadata": {
      "needs_background": "light"
     },
     "output_type": "display_data"
    }
   ],
   "source": [
    "# summary of our image classes\n",
    "target_count = label.label.value_counts()\n",
    "print('Class Airport:', target_count[\"Airport\"])\n",
    "print('Class Building:', target_count[\"Building\"])\n",
    "print('Class Car:', target_count[\"Car\"])\n",
    "print('Class Bridge:', target_count[\"Bridge\"])\n",
    "print('Class Railway:', target_count[\"Railway\"])\n",
    "print('Class Pipe:', target_count[\"Pipe\"])\n",
    "print('Class Power_plant:', target_count[\"Power_plant\"])\n",
    "\n",
    "target_count.plot(kind='bar', title='Count by Class');"
   ]
  },
  {
   "cell_type": "code",
   "execution_count": 6,
   "id": "df0543d1",
   "metadata": {},
   "outputs": [
    {
     "name": "stdout",
     "output_type": "stream",
     "text": [
      "{'png', 'jpg', 'jpeg'}\n"
     ]
    }
   ],
   "source": [
    "# check what types of image we get\n",
    "#set the image directory\n",
    "files = os.listdir(\"./dddd/\")\n",
    "# print the types of image\n",
    "print(set([x.split(\".\")[1] for x in files]))"
   ]
  },
  {
   "cell_type": "code",
   "execution_count": 7,
   "id": "36182da3",
   "metadata": {},
   "outputs": [],
   "source": [
    "# prepare the directory for each image type\n",
    "extensions = (\"*.png\",\"*.jpg\",\"*.jpeg\",)\n",
    "path = []\n",
    "for extension in extensions:\n",
    "    path.extend(glob.glob(\"./dddd/\"+extension))"
   ]
  },
  {
   "cell_type": "code",
   "execution_count": 8,
   "id": "43564cd7",
   "metadata": {},
   "outputs": [],
   "source": [
    "# set the resize transform\n",
    "transform = transforms.Resize((500,500))"
   ]
  },
  {
   "cell_type": "code",
   "execution_count": 9,
   "id": "8e94aaf9",
   "metadata": {},
   "outputs": [],
   "source": [
    "# read data\n",
    "cv_img = []\n",
    "for img in path:\n",
    "    # read image > to Tensor > permute the data > resize > flatten\n",
    "    n = torch.flatten(transform(torch.permute(torch.tensor(cv.imread(img)),(2,0,1))))\n",
    "    cv_img.append(np.array(n))"
   ]
  },
  {
   "cell_type": "code",
   "execution_count": 10,
   "id": "486a6148",
   "metadata": {},
   "outputs": [
    {
     "data": {
      "text/plain": [
       "array([110, 109, 112, ...,   6,   6,   6], dtype=uint8)"
      ]
     },
     "execution_count": 10,
     "metadata": {},
     "output_type": "execute_result"
    }
   ],
   "source": [
    "# check the data \n",
    "cv_img[0]"
   ]
  },
  {
   "cell_type": "code",
   "execution_count": 11,
   "id": "fb8ad9e9",
   "metadata": {},
   "outputs": [],
   "source": [
    "# flattened image as X\n",
    "X = np.array(cv_img)"
   ]
  },
  {
   "cell_type": "code",
   "execution_count": 12,
   "id": "578386d8",
   "metadata": {},
   "outputs": [],
   "source": [
    "# label as y\n",
    "y = np.array(label)"
   ]
  },
  {
   "cell_type": "code",
   "execution_count": 13,
   "id": "7872d97b",
   "metadata": {},
   "outputs": [],
   "source": [
    "X_train,X_test,y_train,y_test = train_test_split(X, y, random_state=0,test_size=0.2)"
   ]
  },
  {
   "cell_type": "code",
   "execution_count": 14,
   "id": "28c7e774",
   "metadata": {},
   "outputs": [],
   "source": [
    "# set the random forest model \n",
    "rf_model = RandomForestClassifier(criterion='gini',max_depth=None, min_samples_leaf=1,n_estimators=100,\n",
    "                                  max_samples=1,random_state=0)"
   ]
  },
  {
   "cell_type": "code",
   "execution_count": 15,
   "id": "2c6971cd",
   "metadata": {},
   "outputs": [],
   "source": [
    "rf = rf_model.fit(X_train, y_train)"
   ]
  },
  {
   "cell_type": "code",
   "execution_count": 16,
   "id": "49a73c50",
   "metadata": {},
   "outputs": [
    {
     "name": "stdout",
     "output_type": "stream",
     "text": [
      "Test set accuracy is 44.000\n"
     ]
    }
   ],
   "source": [
    "test_preds = rf_model.predict(X_test)\n",
    "test_acc = np.sum(test_preds==y_test)/len(y_test)\n",
    "print('Test set accuracy is {:.3f}'.format(test_acc))"
   ]
  },
  {
   "cell_type": "code",
   "execution_count": null,
   "id": "297a6a5b",
   "metadata": {},
   "outputs": [],
   "source": []
  }
 ],
 "metadata": {
  "kernelspec": {
   "display_name": "Python 3",
   "language": "python",
   "name": "python3"
  },
  "language_info": {
   "codemirror_mode": {
    "name": "ipython",
    "version": 3
   },
   "file_extension": ".py",
   "mimetype": "text/x-python",
   "name": "python",
   "nbconvert_exporter": "python",
   "pygments_lexer": "ipython3",
   "version": "3.8.8"
  }
 },
 "nbformat": 4,
 "nbformat_minor": 5
}
